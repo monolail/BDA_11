{
  "cells": [
    {
      "cell_type": "markdown",
      "metadata": {
        "id": "qXUBfCONOdID"
      },
      "source": [
        "# **과제1 : 수치형 변수 단변량 분석**"
      ]
    },
    {
      "cell_type": "markdown",
      "metadata": {
        "id": "790IJBdRWl9r"
      },
      "source": [
        "## **1.비즈니스 시나리오**"
      ]
    },
    {
      "cell_type": "markdown",
      "metadata": {
        "id": "7usNzsAVsGbi"
      },
      "source": [
        "![](https://cdn.images.express.co.uk/img/dynamic/24/590x/child-car-seat-986556.jpg?r=1532946857754)"
      ]
    },
    {
      "cell_type": "markdown",
      "metadata": {
        "id": "XOiIUDJ1i11u"
      },
      "source": [
        "* 고객사는 카시트를 판매하는 회사 입니다.\n",
        "* 최근 매출 하락에 대해 각 부서가 파악한 원인 다음과 같습니다.\n",
        "    * 최근에 경쟁사와의 가격 경쟁력이 하락하고 있고, 광고비용이 적절하게 집행되지 않음\n",
        "    * 너무 국내 시장에 집중됨.\n",
        "    * 지역마다의 구매력을 제대로 파악하지 못하고 있음.\n",
        ">\n",
        "* 그러나 이러한 분석은 데이터에 근거하고 있는지 의문이 듭니다.\n",
        "* 이 문제를 해결하고자 프로젝트 팀이 빌딩되었습니다.\n",
        "* 여러분은 이 프로젝트팀에 데이터 분석가로 참여하고 있습니다.\n",
        "* 자, 이제 단변량 분석을 통해 비즈니스 인사이트를 도출해 봅시다!\n"
      ]
    },
    {
      "cell_type": "markdown",
      "metadata": {
        "id": "c1uOWzZl_YZH"
      },
      "source": [
        "## **2.환경준비**"
      ]
    },
    {
      "cell_type": "markdown",
      "metadata": {
        "id": "LS2rtJiJlaF0"
      },
      "source": [
        "### **(1) 라이브러리 불러오기**"
      ]
    },
    {
      "cell_type": "code",
      "execution_count": 1,
      "metadata": {
        "id": "ba319GIZlcFB"
      },
      "outputs": [],
      "source": [
        "import numpy as np\n",
        "import pandas as pd\n",
        "import matplotlib.pyplot as plt\n",
        "import seaborn as sns"
      ]
    },
    {
      "cell_type": "markdown",
      "metadata": {
        "id": "TCceTRSHqibR"
      },
      "source": [
        "### **(2) 데이터 로딩 : 카시트 판매량 데이터**"
      ]
    },
    {
      "cell_type": "markdown",
      "metadata": {
        "id": "zYKHwYHatC4k"
      },
      "source": [
        "|\t변수명\t|\t설명\t|\t구분\t|\n",
        "|----|----|----|\n",
        "|\t**Sales** \t|\t 각 지역 판매량(단위 : 1000개)\t|\tTarget\t|\n",
        "|\t**CompPrice** \t|\t 경쟁사 가격(단위 : 달러)\t|\tfeature\t|\n",
        "|\t**Income** \t|\t 지역 평균 소득(단위 : 1000달러)\t|\tfeature\t|\n",
        "|\t**Advertising** \t|\t 각 지역, 회사의 광고 예산(단위 : 1000달러)\t|\tfeature\t|\n",
        "|\t**Population** \t|\t 지역 인구수(단위 : 1000명)\t|\tfeature\t|\n",
        "|\t**Price** \t|\t 자사 지역별 판매가격\t|\tfeature\t|\n",
        "|\t**ShelveLoc** \t|\t 진열상태\t|\tfeature\t|\n",
        "|\t**Age** \t|\t 지역 인구의 평균 연령\t|\tfeature\t|\n",
        "|\t**Urban** \t|\t 도심 지역 여부(Yes,No)\t|\tfeature\t|\n",
        "|\t**US** \t|\t 매장이 미국에 있는지 여부(Yes,No)\t|\tfeature\t|\n"
      ]
    },
    {
      "cell_type": "code",
      "execution_count": 2,
      "metadata": {
        "id": "08FGuKtjpGOj",
        "colab": {
          "base_uri": "https://localhost:8080/",
          "height": 206
        },
        "outputId": "dcf02757-a3b4-4051-90c0-7bd83b24df63"
      },
      "outputs": [
        {
          "output_type": "execute_result",
          "data": {
            "text/plain": [
              "   Sales  CompPrice  Income  Advertising  Population  Price ShelveLoc  Age  \\\n",
              "0   9.50        138      73           11         276    120       Bad   42   \n",
              "1  11.22        111      48           16         260     83      Good   65   \n",
              "2  10.06        113      35           10         269     80    Medium   59   \n",
              "3   7.40        117     100            4         466     97    Medium   55   \n",
              "4   4.15        141      64            3         340    128       Bad   38   \n",
              "\n",
              "  Urban   US  \n",
              "0   Yes  Yes  \n",
              "1   Yes  Yes  \n",
              "2   Yes  Yes  \n",
              "3   Yes  Yes  \n",
              "4   Yes   No  "
            ],
            "text/html": [
              "\n",
              "  <div id=\"df-88303003-a21c-4c26-843c-74c5a209891b\" class=\"colab-df-container\">\n",
              "    <div>\n",
              "<style scoped>\n",
              "    .dataframe tbody tr th:only-of-type {\n",
              "        vertical-align: middle;\n",
              "    }\n",
              "\n",
              "    .dataframe tbody tr th {\n",
              "        vertical-align: top;\n",
              "    }\n",
              "\n",
              "    .dataframe thead th {\n",
              "        text-align: right;\n",
              "    }\n",
              "</style>\n",
              "<table border=\"1\" class=\"dataframe\">\n",
              "  <thead>\n",
              "    <tr style=\"text-align: right;\">\n",
              "      <th></th>\n",
              "      <th>Sales</th>\n",
              "      <th>CompPrice</th>\n",
              "      <th>Income</th>\n",
              "      <th>Advertising</th>\n",
              "      <th>Population</th>\n",
              "      <th>Price</th>\n",
              "      <th>ShelveLoc</th>\n",
              "      <th>Age</th>\n",
              "      <th>Urban</th>\n",
              "      <th>US</th>\n",
              "    </tr>\n",
              "  </thead>\n",
              "  <tbody>\n",
              "    <tr>\n",
              "      <th>0</th>\n",
              "      <td>9.50</td>\n",
              "      <td>138</td>\n",
              "      <td>73</td>\n",
              "      <td>11</td>\n",
              "      <td>276</td>\n",
              "      <td>120</td>\n",
              "      <td>Bad</td>\n",
              "      <td>42</td>\n",
              "      <td>Yes</td>\n",
              "      <td>Yes</td>\n",
              "    </tr>\n",
              "    <tr>\n",
              "      <th>1</th>\n",
              "      <td>11.22</td>\n",
              "      <td>111</td>\n",
              "      <td>48</td>\n",
              "      <td>16</td>\n",
              "      <td>260</td>\n",
              "      <td>83</td>\n",
              "      <td>Good</td>\n",
              "      <td>65</td>\n",
              "      <td>Yes</td>\n",
              "      <td>Yes</td>\n",
              "    </tr>\n",
              "    <tr>\n",
              "      <th>2</th>\n",
              "      <td>10.06</td>\n",
              "      <td>113</td>\n",
              "      <td>35</td>\n",
              "      <td>10</td>\n",
              "      <td>269</td>\n",
              "      <td>80</td>\n",
              "      <td>Medium</td>\n",
              "      <td>59</td>\n",
              "      <td>Yes</td>\n",
              "      <td>Yes</td>\n",
              "    </tr>\n",
              "    <tr>\n",
              "      <th>3</th>\n",
              "      <td>7.40</td>\n",
              "      <td>117</td>\n",
              "      <td>100</td>\n",
              "      <td>4</td>\n",
              "      <td>466</td>\n",
              "      <td>97</td>\n",
              "      <td>Medium</td>\n",
              "      <td>55</td>\n",
              "      <td>Yes</td>\n",
              "      <td>Yes</td>\n",
              "    </tr>\n",
              "    <tr>\n",
              "      <th>4</th>\n",
              "      <td>4.15</td>\n",
              "      <td>141</td>\n",
              "      <td>64</td>\n",
              "      <td>3</td>\n",
              "      <td>340</td>\n",
              "      <td>128</td>\n",
              "      <td>Bad</td>\n",
              "      <td>38</td>\n",
              "      <td>Yes</td>\n",
              "      <td>No</td>\n",
              "    </tr>\n",
              "  </tbody>\n",
              "</table>\n",
              "</div>\n",
              "    <div class=\"colab-df-buttons\">\n",
              "\n",
              "  <div class=\"colab-df-container\">\n",
              "    <button class=\"colab-df-convert\" onclick=\"convertToInteractive('df-88303003-a21c-4c26-843c-74c5a209891b')\"\n",
              "            title=\"Convert this dataframe to an interactive table.\"\n",
              "            style=\"display:none;\">\n",
              "\n",
              "  <svg xmlns=\"http://www.w3.org/2000/svg\" height=\"24px\" viewBox=\"0 -960 960 960\">\n",
              "    <path d=\"M120-120v-720h720v720H120Zm60-500h600v-160H180v160Zm220 220h160v-160H400v160Zm0 220h160v-160H400v160ZM180-400h160v-160H180v160Zm440 0h160v-160H620v160ZM180-180h160v-160H180v160Zm440 0h160v-160H620v160Z\"/>\n",
              "  </svg>\n",
              "    </button>\n",
              "\n",
              "  <style>\n",
              "    .colab-df-container {\n",
              "      display:flex;\n",
              "      gap: 12px;\n",
              "    }\n",
              "\n",
              "    .colab-df-convert {\n",
              "      background-color: #E8F0FE;\n",
              "      border: none;\n",
              "      border-radius: 50%;\n",
              "      cursor: pointer;\n",
              "      display: none;\n",
              "      fill: #1967D2;\n",
              "      height: 32px;\n",
              "      padding: 0 0 0 0;\n",
              "      width: 32px;\n",
              "    }\n",
              "\n",
              "    .colab-df-convert:hover {\n",
              "      background-color: #E2EBFA;\n",
              "      box-shadow: 0px 1px 2px rgba(60, 64, 67, 0.3), 0px 1px 3px 1px rgba(60, 64, 67, 0.15);\n",
              "      fill: #174EA6;\n",
              "    }\n",
              "\n",
              "    .colab-df-buttons div {\n",
              "      margin-bottom: 4px;\n",
              "    }\n",
              "\n",
              "    [theme=dark] .colab-df-convert {\n",
              "      background-color: #3B4455;\n",
              "      fill: #D2E3FC;\n",
              "    }\n",
              "\n",
              "    [theme=dark] .colab-df-convert:hover {\n",
              "      background-color: #434B5C;\n",
              "      box-shadow: 0px 1px 3px 1px rgba(0, 0, 0, 0.15);\n",
              "      filter: drop-shadow(0px 1px 2px rgba(0, 0, 0, 0.3));\n",
              "      fill: #FFFFFF;\n",
              "    }\n",
              "  </style>\n",
              "\n",
              "    <script>\n",
              "      const buttonEl =\n",
              "        document.querySelector('#df-88303003-a21c-4c26-843c-74c5a209891b button.colab-df-convert');\n",
              "      buttonEl.style.display =\n",
              "        google.colab.kernel.accessAllowed ? 'block' : 'none';\n",
              "\n",
              "      async function convertToInteractive(key) {\n",
              "        const element = document.querySelector('#df-88303003-a21c-4c26-843c-74c5a209891b');\n",
              "        const dataTable =\n",
              "          await google.colab.kernel.invokeFunction('convertToInteractive',\n",
              "                                                    [key], {});\n",
              "        if (!dataTable) return;\n",
              "\n",
              "        const docLinkHtml = 'Like what you see? Visit the ' +\n",
              "          '<a target=\"_blank\" href=https://colab.research.google.com/notebooks/data_table.ipynb>data table notebook</a>'\n",
              "          + ' to learn more about interactive tables.';\n",
              "        element.innerHTML = '';\n",
              "        dataTable['output_type'] = 'display_data';\n",
              "        await google.colab.output.renderOutput(dataTable, element);\n",
              "        const docLink = document.createElement('div');\n",
              "        docLink.innerHTML = docLinkHtml;\n",
              "        element.appendChild(docLink);\n",
              "      }\n",
              "    </script>\n",
              "  </div>\n",
              "\n",
              "\n",
              "    <div id=\"df-1b481b2e-5e90-41a4-a732-7ca2798baf1b\">\n",
              "      <button class=\"colab-df-quickchart\" onclick=\"quickchart('df-1b481b2e-5e90-41a4-a732-7ca2798baf1b')\"\n",
              "                title=\"Suggest charts\"\n",
              "                style=\"display:none;\">\n",
              "\n",
              "<svg xmlns=\"http://www.w3.org/2000/svg\" height=\"24px\"viewBox=\"0 0 24 24\"\n",
              "     width=\"24px\">\n",
              "    <g>\n",
              "        <path d=\"M19 3H5c-1.1 0-2 .9-2 2v14c0 1.1.9 2 2 2h14c1.1 0 2-.9 2-2V5c0-1.1-.9-2-2-2zM9 17H7v-7h2v7zm4 0h-2V7h2v10zm4 0h-2v-4h2v4z\"/>\n",
              "    </g>\n",
              "</svg>\n",
              "      </button>\n",
              "\n",
              "<style>\n",
              "  .colab-df-quickchart {\n",
              "      --bg-color: #E8F0FE;\n",
              "      --fill-color: #1967D2;\n",
              "      --hover-bg-color: #E2EBFA;\n",
              "      --hover-fill-color: #174EA6;\n",
              "      --disabled-fill-color: #AAA;\n",
              "      --disabled-bg-color: #DDD;\n",
              "  }\n",
              "\n",
              "  [theme=dark] .colab-df-quickchart {\n",
              "      --bg-color: #3B4455;\n",
              "      --fill-color: #D2E3FC;\n",
              "      --hover-bg-color: #434B5C;\n",
              "      --hover-fill-color: #FFFFFF;\n",
              "      --disabled-bg-color: #3B4455;\n",
              "      --disabled-fill-color: #666;\n",
              "  }\n",
              "\n",
              "  .colab-df-quickchart {\n",
              "    background-color: var(--bg-color);\n",
              "    border: none;\n",
              "    border-radius: 50%;\n",
              "    cursor: pointer;\n",
              "    display: none;\n",
              "    fill: var(--fill-color);\n",
              "    height: 32px;\n",
              "    padding: 0;\n",
              "    width: 32px;\n",
              "  }\n",
              "\n",
              "  .colab-df-quickchart:hover {\n",
              "    background-color: var(--hover-bg-color);\n",
              "    box-shadow: 0 1px 2px rgba(60, 64, 67, 0.3), 0 1px 3px 1px rgba(60, 64, 67, 0.15);\n",
              "    fill: var(--button-hover-fill-color);\n",
              "  }\n",
              "\n",
              "  .colab-df-quickchart-complete:disabled,\n",
              "  .colab-df-quickchart-complete:disabled:hover {\n",
              "    background-color: var(--disabled-bg-color);\n",
              "    fill: var(--disabled-fill-color);\n",
              "    box-shadow: none;\n",
              "  }\n",
              "\n",
              "  .colab-df-spinner {\n",
              "    border: 2px solid var(--fill-color);\n",
              "    border-color: transparent;\n",
              "    border-bottom-color: var(--fill-color);\n",
              "    animation:\n",
              "      spin 1s steps(1) infinite;\n",
              "  }\n",
              "\n",
              "  @keyframes spin {\n",
              "    0% {\n",
              "      border-color: transparent;\n",
              "      border-bottom-color: var(--fill-color);\n",
              "      border-left-color: var(--fill-color);\n",
              "    }\n",
              "    20% {\n",
              "      border-color: transparent;\n",
              "      border-left-color: var(--fill-color);\n",
              "      border-top-color: var(--fill-color);\n",
              "    }\n",
              "    30% {\n",
              "      border-color: transparent;\n",
              "      border-left-color: var(--fill-color);\n",
              "      border-top-color: var(--fill-color);\n",
              "      border-right-color: var(--fill-color);\n",
              "    }\n",
              "    40% {\n",
              "      border-color: transparent;\n",
              "      border-right-color: var(--fill-color);\n",
              "      border-top-color: var(--fill-color);\n",
              "    }\n",
              "    60% {\n",
              "      border-color: transparent;\n",
              "      border-right-color: var(--fill-color);\n",
              "    }\n",
              "    80% {\n",
              "      border-color: transparent;\n",
              "      border-right-color: var(--fill-color);\n",
              "      border-bottom-color: var(--fill-color);\n",
              "    }\n",
              "    90% {\n",
              "      border-color: transparent;\n",
              "      border-bottom-color: var(--fill-color);\n",
              "    }\n",
              "  }\n",
              "</style>\n",
              "\n",
              "      <script>\n",
              "        async function quickchart(key) {\n",
              "          const quickchartButtonEl =\n",
              "            document.querySelector('#' + key + ' button');\n",
              "          quickchartButtonEl.disabled = true;  // To prevent multiple clicks.\n",
              "          quickchartButtonEl.classList.add('colab-df-spinner');\n",
              "          try {\n",
              "            const charts = await google.colab.kernel.invokeFunction(\n",
              "                'suggestCharts', [key], {});\n",
              "          } catch (error) {\n",
              "            console.error('Error during call to suggestCharts:', error);\n",
              "          }\n",
              "          quickchartButtonEl.classList.remove('colab-df-spinner');\n",
              "          quickchartButtonEl.classList.add('colab-df-quickchart-complete');\n",
              "        }\n",
              "        (() => {\n",
              "          let quickchartButtonEl =\n",
              "            document.querySelector('#df-1b481b2e-5e90-41a4-a732-7ca2798baf1b button');\n",
              "          quickchartButtonEl.style.display =\n",
              "            google.colab.kernel.accessAllowed ? 'block' : 'none';\n",
              "        })();\n",
              "      </script>\n",
              "    </div>\n",
              "\n",
              "    </div>\n",
              "  </div>\n"
            ],
            "application/vnd.google.colaboratory.intrinsic+json": {
              "type": "dataframe",
              "variable_name": "data",
              "summary": "{\n  \"name\": \"data\",\n  \"rows\": 400,\n  \"fields\": [\n    {\n      \"column\": \"Sales\",\n      \"properties\": {\n        \"dtype\": \"number\",\n        \"std\": 2.8241150488068367,\n        \"min\": 0.0,\n        \"max\": 16.27,\n        \"num_unique_values\": 336,\n        \"samples\": [\n          8.55,\n          7.57,\n          5.99\n        ],\n        \"semantic_type\": \"\",\n        \"description\": \"\"\n      }\n    },\n    {\n      \"column\": \"CompPrice\",\n      \"properties\": {\n        \"dtype\": \"number\",\n        \"std\": 15,\n        \"min\": 77,\n        \"max\": 175,\n        \"num_unique_values\": 73,\n        \"samples\": [\n          141,\n          120,\n          134\n        ],\n        \"semantic_type\": \"\",\n        \"description\": \"\"\n      }\n    },\n    {\n      \"column\": \"Income\",\n      \"properties\": {\n        \"dtype\": \"number\",\n        \"std\": 27,\n        \"min\": 21,\n        \"max\": 120,\n        \"num_unique_values\": 98,\n        \"samples\": [\n          30,\n          103,\n          55\n        ],\n        \"semantic_type\": \"\",\n        \"description\": \"\"\n      }\n    },\n    {\n      \"column\": \"Advertising\",\n      \"properties\": {\n        \"dtype\": \"number\",\n        \"std\": 6,\n        \"min\": 0,\n        \"max\": 29,\n        \"num_unique_values\": 28,\n        \"samples\": [\n          2,\n          29,\n          9\n        ],\n        \"semantic_type\": \"\",\n        \"description\": \"\"\n      }\n    },\n    {\n      \"column\": \"Population\",\n      \"properties\": {\n        \"dtype\": \"number\",\n        \"std\": 147,\n        \"min\": 10,\n        \"max\": 509,\n        \"num_unique_values\": 275,\n        \"samples\": [\n          447,\n          492,\n          467\n        ],\n        \"semantic_type\": \"\",\n        \"description\": \"\"\n      }\n    },\n    {\n      \"column\": \"Price\",\n      \"properties\": {\n        \"dtype\": \"number\",\n        \"std\": 23,\n        \"min\": 24,\n        \"max\": 191,\n        \"num_unique_values\": 101,\n        \"samples\": [\n          64,\n          139,\n          49\n        ],\n        \"semantic_type\": \"\",\n        \"description\": \"\"\n      }\n    },\n    {\n      \"column\": \"ShelveLoc\",\n      \"properties\": {\n        \"dtype\": \"category\",\n        \"num_unique_values\": 3,\n        \"samples\": [\n          \"Bad\",\n          \"Good\",\n          \"Medium\"\n        ],\n        \"semantic_type\": \"\",\n        \"description\": \"\"\n      }\n    },\n    {\n      \"column\": \"Age\",\n      \"properties\": {\n        \"dtype\": \"number\",\n        \"std\": 16,\n        \"min\": 25,\n        \"max\": 80,\n        \"num_unique_values\": 56,\n        \"samples\": [\n          42,\n          78,\n          29\n        ],\n        \"semantic_type\": \"\",\n        \"description\": \"\"\n      }\n    },\n    {\n      \"column\": \"Urban\",\n      \"properties\": {\n        \"dtype\": \"category\",\n        \"num_unique_values\": 2,\n        \"samples\": [\n          \"No\",\n          \"Yes\"\n        ],\n        \"semantic_type\": \"\",\n        \"description\": \"\"\n      }\n    },\n    {\n      \"column\": \"US\",\n      \"properties\": {\n        \"dtype\": \"category\",\n        \"num_unique_values\": 2,\n        \"samples\": [\n          \"No\",\n          \"Yes\"\n        ],\n        \"semantic_type\": \"\",\n        \"description\": \"\"\n      }\n    }\n  ]\n}"
            }
          },
          "metadata": {},
          "execution_count": 2
        }
      ],
      "source": [
        "path = 'https://raw.githubusercontent.com/DA4BAM/dataset/master/Carseats2.csv'\n",
        "data = pd.read_csv(path)\n",
        "data.head()"
      ]
    },
    {
      "cell_type": "markdown",
      "metadata": {
        "id": "ZJnWzY5-Ww3h"
      },
      "source": [
        "## **3.단변량분석 : 숫자형 변수**"
      ]
    },
    {
      "cell_type": "markdown",
      "metadata": {
        "id": "2KcdJrQNfJCZ"
      },
      "source": [
        "### **(1) Sales (Target)**"
      ]
    },
    {
      "cell_type": "markdown",
      "metadata": {
        "id": "RkXL80PpfJCa"
      },
      "source": [
        "① 변수의 비즈니스 의미"
      ]
    },
    {
      "cell_type": "code",
      "source": [
        "#각 지역 판매량(단위 : 1000개) : 한 지역에서 카시트를 얼마나 판매했는지 알려주는 정보"
      ],
      "metadata": {
        "id": "za8Hn7iB7p-a"
      },
      "execution_count": null,
      "outputs": []
    },
    {
      "cell_type": "markdown",
      "metadata": {
        "id": "H9_8VoENfJCa"
      },
      "source": [
        "② 기초통계량 및 분포확인"
      ]
    },
    {
      "cell_type": "code",
      "execution_count": 8,
      "metadata": {
        "id": "DJpEltSbfJCa",
        "colab": {
          "base_uri": "https://localhost:8080/",
          "height": 335
        },
        "outputId": "4b20b98f-7e02-4922-fd6d-0a51f46c4eed"
      },
      "outputs": [
        {
          "output_type": "execute_result",
          "data": {
            "text/plain": [
              "count    400.000000\n",
              "mean       7.496325\n",
              "std        2.824115\n",
              "min        0.000000\n",
              "25%        5.390000\n",
              "50%        7.490000\n",
              "75%        9.320000\n",
              "max       16.270000\n",
              "Name: Sales, dtype: float64"
            ],
            "text/html": [
              "<div>\n",
              "<style scoped>\n",
              "    .dataframe tbody tr th:only-of-type {\n",
              "        vertical-align: middle;\n",
              "    }\n",
              "\n",
              "    .dataframe tbody tr th {\n",
              "        vertical-align: top;\n",
              "    }\n",
              "\n",
              "    .dataframe thead th {\n",
              "        text-align: right;\n",
              "    }\n",
              "</style>\n",
              "<table border=\"1\" class=\"dataframe\">\n",
              "  <thead>\n",
              "    <tr style=\"text-align: right;\">\n",
              "      <th></th>\n",
              "      <th>Sales</th>\n",
              "    </tr>\n",
              "  </thead>\n",
              "  <tbody>\n",
              "    <tr>\n",
              "      <th>count</th>\n",
              "      <td>400.000000</td>\n",
              "    </tr>\n",
              "    <tr>\n",
              "      <th>mean</th>\n",
              "      <td>7.496325</td>\n",
              "    </tr>\n",
              "    <tr>\n",
              "      <th>std</th>\n",
              "      <td>2.824115</td>\n",
              "    </tr>\n",
              "    <tr>\n",
              "      <th>min</th>\n",
              "      <td>0.000000</td>\n",
              "    </tr>\n",
              "    <tr>\n",
              "      <th>25%</th>\n",
              "      <td>5.390000</td>\n",
              "    </tr>\n",
              "    <tr>\n",
              "      <th>50%</th>\n",
              "      <td>7.490000</td>\n",
              "    </tr>\n",
              "    <tr>\n",
              "      <th>75%</th>\n",
              "      <td>9.320000</td>\n",
              "    </tr>\n",
              "    <tr>\n",
              "      <th>max</th>\n",
              "      <td>16.270000</td>\n",
              "    </tr>\n",
              "  </tbody>\n",
              "</table>\n",
              "</div><br><label><b>dtype:</b> float64</label>"
            ]
          },
          "metadata": {},
          "execution_count": 8
        }
      ],
      "source": [
        "data['Sales'].describe()\n"
      ]
    },
    {
      "cell_type": "markdown",
      "metadata": {
        "id": "s2MLcqE0fJCa"
      },
      "source": [
        "③ 기초통계량과 분포를 통해서 파악한 내용을 적어 봅시다.\n",
        "- 먼저 보이는 그대로 적어 보고\n",
        "- 그 안에 담긴 비즈니스 관점도 적어 봅시다."
      ]
    },
    {
      "cell_type": "code",
      "source": [
        "# 평균 74,964개의 카시트가 판매되고, 최소 0개 부터, 최대 16,270개의 카시트가 판매된다.\n",
        "# 지역별로 차이가 크지만 대략적으로 지역별로 7,490개의 카시트가 판매된다. 그리고 이는 평균의 값과 유사한 수치를 보인다.\n",
        "# 지역별 카시트의 편차가 그리 크지 않으며 비슷한 경향을 보인다.\n",
        "# 따라서 한 지역에서의 카시트에 대한 한 변화를 주었을 때, 변화가 효과가 다른 지역도 유사한 경향을 보일 경우가 크다."
      ],
      "metadata": {
        "id": "-aemUIxY7r-r"
      },
      "execution_count": null,
      "outputs": []
    },
    {
      "cell_type": "markdown",
      "metadata": {
        "id": "hr8edCgEfJCb"
      },
      "source": [
        "④ 추가 분석해 볼 만한 사항이 있으면 적어 봅시다.  \n",
        "(추가 분석을 하는게 아니라, 위 ③을 적으며 추가로 궁금한 항목을 적으세요.)"
      ]
    },
    {
      "cell_type": "code",
      "source": [
        "# 각각의 max와 min의 수치(이상치)값들은 어떻게 생각해야할지 궁금합니다. 그냥 큰 의미없이 무시하는지 아니면 따로 모아 분석하는지 궁금합니다."
      ],
      "metadata": {
        "id": "HMr0beDk7tQo"
      },
      "execution_count": null,
      "outputs": []
    },
    {
      "cell_type": "markdown",
      "metadata": {
        "id": "9WGX3Pm8g8HV"
      },
      "source": [
        "### **(2) CompPrice**"
      ]
    },
    {
      "cell_type": "markdown",
      "metadata": {
        "id": "pBpf-HvQ8V3q"
      },
      "source": [
        "① 변수의 비즈니스 의미"
      ]
    },
    {
      "cell_type": "code",
      "source": [
        "#경쟁사 가격(단위 : 달러) : 다른 경쟁사의 가격을 통해 우리의 가격에 어떤 변화를 주어야할지 알려준다."
      ],
      "metadata": {
        "id": "LR-iymOO8V3r",
        "colab": {
          "base_uri": "https://localhost:8080/",
          "height": 335
        },
        "outputId": "5abb1bf0-275d-40e1-acc8-43f6ea9316a2"
      },
      "execution_count": 9,
      "outputs": [
        {
          "output_type": "execute_result",
          "data": {
            "text/plain": [
              "count    400.000000\n",
              "mean     124.975000\n",
              "std       15.334512\n",
              "min       77.000000\n",
              "25%      115.000000\n",
              "50%      125.000000\n",
              "75%      135.000000\n",
              "max      175.000000\n",
              "Name: CompPrice, dtype: float64"
            ],
            "text/html": [
              "<div>\n",
              "<style scoped>\n",
              "    .dataframe tbody tr th:only-of-type {\n",
              "        vertical-align: middle;\n",
              "    }\n",
              "\n",
              "    .dataframe tbody tr th {\n",
              "        vertical-align: top;\n",
              "    }\n",
              "\n",
              "    .dataframe thead th {\n",
              "        text-align: right;\n",
              "    }\n",
              "</style>\n",
              "<table border=\"1\" class=\"dataframe\">\n",
              "  <thead>\n",
              "    <tr style=\"text-align: right;\">\n",
              "      <th></th>\n",
              "      <th>CompPrice</th>\n",
              "    </tr>\n",
              "  </thead>\n",
              "  <tbody>\n",
              "    <tr>\n",
              "      <th>count</th>\n",
              "      <td>400.000000</td>\n",
              "    </tr>\n",
              "    <tr>\n",
              "      <th>mean</th>\n",
              "      <td>124.975000</td>\n",
              "    </tr>\n",
              "    <tr>\n",
              "      <th>std</th>\n",
              "      <td>15.334512</td>\n",
              "    </tr>\n",
              "    <tr>\n",
              "      <th>min</th>\n",
              "      <td>77.000000</td>\n",
              "    </tr>\n",
              "    <tr>\n",
              "      <th>25%</th>\n",
              "      <td>115.000000</td>\n",
              "    </tr>\n",
              "    <tr>\n",
              "      <th>50%</th>\n",
              "      <td>125.000000</td>\n",
              "    </tr>\n",
              "    <tr>\n",
              "      <th>75%</th>\n",
              "      <td>135.000000</td>\n",
              "    </tr>\n",
              "    <tr>\n",
              "      <th>max</th>\n",
              "      <td>175.000000</td>\n",
              "    </tr>\n",
              "  </tbody>\n",
              "</table>\n",
              "</div><br><label><b>dtype:</b> float64</label>"
            ]
          },
          "metadata": {},
          "execution_count": 9
        }
      ]
    },
    {
      "cell_type": "markdown",
      "metadata": {
        "id": "rvDTTpmg8V3r"
      },
      "source": [
        "② 기초통계량 및 분포확인"
      ]
    },
    {
      "cell_type": "code",
      "execution_count": 15,
      "metadata": {
        "id": "J9zxg_fy8V3r",
        "colab": {
          "base_uri": "https://localhost:8080/",
          "height": 335
        },
        "outputId": "def91c9b-25e3-47ab-ea37-ea94fda6ff35"
      },
      "outputs": [
        {
          "output_type": "execute_result",
          "data": {
            "text/plain": [
              "count    400.000000\n",
              "mean     124.975000\n",
              "std       15.334512\n",
              "min       77.000000\n",
              "25%      115.000000\n",
              "50%      125.000000\n",
              "75%      135.000000\n",
              "max      175.000000\n",
              "Name: CompPrice, dtype: float64"
            ],
            "text/html": [
              "<div>\n",
              "<style scoped>\n",
              "    .dataframe tbody tr th:only-of-type {\n",
              "        vertical-align: middle;\n",
              "    }\n",
              "\n",
              "    .dataframe tbody tr th {\n",
              "        vertical-align: top;\n",
              "    }\n",
              "\n",
              "    .dataframe thead th {\n",
              "        text-align: right;\n",
              "    }\n",
              "</style>\n",
              "<table border=\"1\" class=\"dataframe\">\n",
              "  <thead>\n",
              "    <tr style=\"text-align: right;\">\n",
              "      <th></th>\n",
              "      <th>CompPrice</th>\n",
              "    </tr>\n",
              "  </thead>\n",
              "  <tbody>\n",
              "    <tr>\n",
              "      <th>count</th>\n",
              "      <td>400.000000</td>\n",
              "    </tr>\n",
              "    <tr>\n",
              "      <th>mean</th>\n",
              "      <td>124.975000</td>\n",
              "    </tr>\n",
              "    <tr>\n",
              "      <th>std</th>\n",
              "      <td>15.334512</td>\n",
              "    </tr>\n",
              "    <tr>\n",
              "      <th>min</th>\n",
              "      <td>77.000000</td>\n",
              "    </tr>\n",
              "    <tr>\n",
              "      <th>25%</th>\n",
              "      <td>115.000000</td>\n",
              "    </tr>\n",
              "    <tr>\n",
              "      <th>50%</th>\n",
              "      <td>125.000000</td>\n",
              "    </tr>\n",
              "    <tr>\n",
              "      <th>75%</th>\n",
              "      <td>135.000000</td>\n",
              "    </tr>\n",
              "    <tr>\n",
              "      <th>max</th>\n",
              "      <td>175.000000</td>\n",
              "    </tr>\n",
              "  </tbody>\n",
              "</table>\n",
              "</div><br><label><b>dtype:</b> float64</label>"
            ]
          },
          "metadata": {},
          "execution_count": 15
        }
      ],
      "source": [
        "data['CompPrice'].describe()"
      ]
    },
    {
      "cell_type": "markdown",
      "metadata": {
        "id": "Q3NVZ39t8V3r"
      },
      "source": [
        "③ 기초통계량과 분포를 통해서 파악한 내용을 적어 봅시다.\n",
        "- 먼저 보이는 그대로 적어 보고\n",
        "- 그 안에 담긴 비즈니스 관점도 적어 봅시다."
      ]
    },
    {
      "cell_type": "code",
      "source": [
        "# 경쟁사의 가격은 평균 125달러 이지만, 최소 77달러 부터, 최대 175달러의 카시트가 판매된다. 그중 125달러가 가장 많았다.\n",
        "# 평균의 가격과 2분위수의 가격이 거의 동일 하므로, 실제 경재사의 가격이 125달러로 집중되어있다.\n",
        "# 따라서 125달러 이하의 가격을 설정하여 가격 경쟁의 우위를 차지하는 것이 중요하다."
      ],
      "metadata": {
        "id": "Kq4cgqYV8V3r"
      },
      "execution_count": null,
      "outputs": []
    },
    {
      "cell_type": "markdown",
      "metadata": {
        "id": "_Lfoss9h8V3r"
      },
      "source": [
        "④ 추가 분석해 볼 만한 사항이 있으면 적어 봅시다.  \n",
        "(추가 분석을 하는게 아니라, 위 ③을 적으며 추가로 궁금한 항목을 적으세요.)"
      ]
    },
    {
      "cell_type": "code",
      "source": [
        "# 최소 가격인 77달러의 경쟁사의 카시트를 우선적으로 확인해보는 것이 좋다.\n",
        "# 가격이 싼 만큼의 품질이 떨어지는 지, 아니면 가격은 낮더라도 품질은 비슷한지를 파악하여, 가격이 가장 낮게 책정한 경쟁사와의 우위 경쟁을 대비해야한다."
      ],
      "metadata": {
        "id": "USBQ1x1k8Xt1"
      },
      "execution_count": null,
      "outputs": []
    },
    {
      "cell_type": "markdown",
      "metadata": {
        "id": "CPQ4kqneg8SS"
      },
      "source": [
        "### **(3) Income**"
      ]
    },
    {
      "cell_type": "markdown",
      "metadata": {
        "id": "eKUdFMO78Yxt"
      },
      "source": [
        "① 변수의 비즈니스 의미"
      ]
    },
    {
      "cell_type": "code",
      "source": [
        "# 지역 평균 소득(단위 : 1000달러) : 각 지역별 구매력을 알아볼 수 있는 지표이다."
      ],
      "metadata": {
        "id": "8Ki_d4t88Yxt"
      },
      "execution_count": 17,
      "outputs": []
    },
    {
      "cell_type": "markdown",
      "metadata": {
        "id": "4Ps8uVQn8Yxu"
      },
      "source": [
        "② 기초통계량 및 분포확인"
      ]
    },
    {
      "cell_type": "code",
      "execution_count": 16,
      "metadata": {
        "id": "3ZaP76Pp8Yxu",
        "colab": {
          "base_uri": "https://localhost:8080/",
          "height": 335
        },
        "outputId": "1de6d472-564e-4219-9cf2-ae294f32b663"
      },
      "outputs": [
        {
          "output_type": "execute_result",
          "data": {
            "text/plain": [
              "count    400.000000\n",
              "mean      68.657500\n",
              "std       27.986037\n",
              "min       21.000000\n",
              "25%       42.750000\n",
              "50%       69.000000\n",
              "75%       91.000000\n",
              "max      120.000000\n",
              "Name: Income, dtype: float64"
            ],
            "text/html": [
              "<div>\n",
              "<style scoped>\n",
              "    .dataframe tbody tr th:only-of-type {\n",
              "        vertical-align: middle;\n",
              "    }\n",
              "\n",
              "    .dataframe tbody tr th {\n",
              "        vertical-align: top;\n",
              "    }\n",
              "\n",
              "    .dataframe thead th {\n",
              "        text-align: right;\n",
              "    }\n",
              "</style>\n",
              "<table border=\"1\" class=\"dataframe\">\n",
              "  <thead>\n",
              "    <tr style=\"text-align: right;\">\n",
              "      <th></th>\n",
              "      <th>Income</th>\n",
              "    </tr>\n",
              "  </thead>\n",
              "  <tbody>\n",
              "    <tr>\n",
              "      <th>count</th>\n",
              "      <td>400.000000</td>\n",
              "    </tr>\n",
              "    <tr>\n",
              "      <th>mean</th>\n",
              "      <td>68.657500</td>\n",
              "    </tr>\n",
              "    <tr>\n",
              "      <th>std</th>\n",
              "      <td>27.986037</td>\n",
              "    </tr>\n",
              "    <tr>\n",
              "      <th>min</th>\n",
              "      <td>21.000000</td>\n",
              "    </tr>\n",
              "    <tr>\n",
              "      <th>25%</th>\n",
              "      <td>42.750000</td>\n",
              "    </tr>\n",
              "    <tr>\n",
              "      <th>50%</th>\n",
              "      <td>69.000000</td>\n",
              "    </tr>\n",
              "    <tr>\n",
              "      <th>75%</th>\n",
              "      <td>91.000000</td>\n",
              "    </tr>\n",
              "    <tr>\n",
              "      <th>max</th>\n",
              "      <td>120.000000</td>\n",
              "    </tr>\n",
              "  </tbody>\n",
              "</table>\n",
              "</div><br><label><b>dtype:</b> float64</label>"
            ]
          },
          "metadata": {},
          "execution_count": 16
        }
      ],
      "source": [
        "data['Income'].describe()"
      ]
    },
    {
      "cell_type": "markdown",
      "metadata": {
        "id": "28ym3vaZ8Yxu"
      },
      "source": [
        "③ 기초통계량과 분포를 통해서 파악한 내용을 적어 봅시다.\n",
        "- 먼저 보이는 그대로 적어 보고\n",
        "- 그 안에 담긴 비즈니스 관점도 적어 봅시다."
      ]
    },
    {
      "cell_type": "code",
      "source": [
        "# 지역별 소득의 수준의 평균은 68,658달러이고, 대부분이 69,000달러의 소득 수준을 갖는다. 최대 최소의 편차는 크지만 평균과 2분위수의 수치는 거의 동일하다.\n",
        "# 소득 수준이 높은 지역일 수록, 카시트를 구매할 경우가 높다. 소득 수준이 높다면, 사람들이 많거나, 고소득의 사람들이 살 경우가 많고,\n",
        "# 그들의 차량 이용률은 매우 높기 때문이다. 따라서 카시트의 판매점은 소득 수준이 높은 지역에 많이 설치하고 상대적으로 낮은 지역은 판매점을 적게 설치하는 것이 좋다."
      ],
      "metadata": {
        "id": "2fwO6uU08Yxu"
      },
      "execution_count": null,
      "outputs": []
    },
    {
      "cell_type": "markdown",
      "metadata": {
        "id": "KCPEWmwq8Yxu"
      },
      "source": [
        "④ 추가 분석해 볼 만한 사항이 있으면 적어 봅시다.  \n",
        "(추가 분석을 하는게 아니라, 위 ③을 적으며 추가로 궁금한 항목을 적으세요.)"
      ]
    },
    {
      "cell_type": "code",
      "source": [
        "# 소득 수준이 판매와 꼭 연결되는가? 다른 변수는 없을까?"
      ],
      "metadata": {
        "id": "yRnlKV1V8Yxu"
      },
      "execution_count": null,
      "outputs": []
    },
    {
      "cell_type": "markdown",
      "metadata": {
        "id": "oGaBjzSYg8ch"
      },
      "source": [
        "### **(4) Advertising**"
      ]
    },
    {
      "cell_type": "markdown",
      "metadata": {
        "id": "2Kh_vJy08apc"
      },
      "source": [
        "① 변수의 비즈니스 의미"
      ]
    },
    {
      "cell_type": "code",
      "source": [
        "\t# 각 지역, 회사의 광고 예산(단위 : 1000달러) : 각 지역의 회사의 광고 예산으로, 예산이 높을 수록 홍보의 효과가 높다."
      ],
      "metadata": {
        "id": "hS19k3638apd",
        "colab": {
          "base_uri": "https://localhost:8080/",
          "height": 335
        },
        "outputId": "0c18f549-3d50-4ff2-f74b-65e4336d3911"
      },
      "execution_count": 13,
      "outputs": [
        {
          "output_type": "execute_result",
          "data": {
            "text/plain": [
              "count    400.000000\n",
              "mean       6.635000\n",
              "std        6.650364\n",
              "min        0.000000\n",
              "25%        0.000000\n",
              "50%        5.000000\n",
              "75%       12.000000\n",
              "max       29.000000\n",
              "Name: Advertising, dtype: float64"
            ],
            "text/html": [
              "<div>\n",
              "<style scoped>\n",
              "    .dataframe tbody tr th:only-of-type {\n",
              "        vertical-align: middle;\n",
              "    }\n",
              "\n",
              "    .dataframe tbody tr th {\n",
              "        vertical-align: top;\n",
              "    }\n",
              "\n",
              "    .dataframe thead th {\n",
              "        text-align: right;\n",
              "    }\n",
              "</style>\n",
              "<table border=\"1\" class=\"dataframe\">\n",
              "  <thead>\n",
              "    <tr style=\"text-align: right;\">\n",
              "      <th></th>\n",
              "      <th>Advertising</th>\n",
              "    </tr>\n",
              "  </thead>\n",
              "  <tbody>\n",
              "    <tr>\n",
              "      <th>count</th>\n",
              "      <td>400.000000</td>\n",
              "    </tr>\n",
              "    <tr>\n",
              "      <th>mean</th>\n",
              "      <td>6.635000</td>\n",
              "    </tr>\n",
              "    <tr>\n",
              "      <th>std</th>\n",
              "      <td>6.650364</td>\n",
              "    </tr>\n",
              "    <tr>\n",
              "      <th>min</th>\n",
              "      <td>0.000000</td>\n",
              "    </tr>\n",
              "    <tr>\n",
              "      <th>25%</th>\n",
              "      <td>0.000000</td>\n",
              "    </tr>\n",
              "    <tr>\n",
              "      <th>50%</th>\n",
              "      <td>5.000000</td>\n",
              "    </tr>\n",
              "    <tr>\n",
              "      <th>75%</th>\n",
              "      <td>12.000000</td>\n",
              "    </tr>\n",
              "    <tr>\n",
              "      <th>max</th>\n",
              "      <td>29.000000</td>\n",
              "    </tr>\n",
              "  </tbody>\n",
              "</table>\n",
              "</div><br><label><b>dtype:</b> float64</label>"
            ]
          },
          "metadata": {},
          "execution_count": 13
        }
      ]
    },
    {
      "cell_type": "markdown",
      "metadata": {
        "id": "VdKV2dV18apd"
      },
      "source": [
        "② 기초통계량 및 분포확인"
      ]
    },
    {
      "cell_type": "code",
      "execution_count": 18,
      "metadata": {
        "id": "KP6M5KGc8apd",
        "colab": {
          "base_uri": "https://localhost:8080/",
          "height": 335
        },
        "outputId": "61b44491-e394-448b-9d88-6c0949db5285"
      },
      "outputs": [
        {
          "output_type": "execute_result",
          "data": {
            "text/plain": [
              "count    400.000000\n",
              "mean       6.635000\n",
              "std        6.650364\n",
              "min        0.000000\n",
              "25%        0.000000\n",
              "50%        5.000000\n",
              "75%       12.000000\n",
              "max       29.000000\n",
              "Name: Advertising, dtype: float64"
            ],
            "text/html": [
              "<div>\n",
              "<style scoped>\n",
              "    .dataframe tbody tr th:only-of-type {\n",
              "        vertical-align: middle;\n",
              "    }\n",
              "\n",
              "    .dataframe tbody tr th {\n",
              "        vertical-align: top;\n",
              "    }\n",
              "\n",
              "    .dataframe thead th {\n",
              "        text-align: right;\n",
              "    }\n",
              "</style>\n",
              "<table border=\"1\" class=\"dataframe\">\n",
              "  <thead>\n",
              "    <tr style=\"text-align: right;\">\n",
              "      <th></th>\n",
              "      <th>Advertising</th>\n",
              "    </tr>\n",
              "  </thead>\n",
              "  <tbody>\n",
              "    <tr>\n",
              "      <th>count</th>\n",
              "      <td>400.000000</td>\n",
              "    </tr>\n",
              "    <tr>\n",
              "      <th>mean</th>\n",
              "      <td>6.635000</td>\n",
              "    </tr>\n",
              "    <tr>\n",
              "      <th>std</th>\n",
              "      <td>6.650364</td>\n",
              "    </tr>\n",
              "    <tr>\n",
              "      <th>min</th>\n",
              "      <td>0.000000</td>\n",
              "    </tr>\n",
              "    <tr>\n",
              "      <th>25%</th>\n",
              "      <td>0.000000</td>\n",
              "    </tr>\n",
              "    <tr>\n",
              "      <th>50%</th>\n",
              "      <td>5.000000</td>\n",
              "    </tr>\n",
              "    <tr>\n",
              "      <th>75%</th>\n",
              "      <td>12.000000</td>\n",
              "    </tr>\n",
              "    <tr>\n",
              "      <th>max</th>\n",
              "      <td>29.000000</td>\n",
              "    </tr>\n",
              "  </tbody>\n",
              "</table>\n",
              "</div><br><label><b>dtype:</b> float64</label>"
            ]
          },
          "metadata": {},
          "execution_count": 18
        }
      ],
      "source": [
        "data['Advertising'].describe()"
      ]
    },
    {
      "cell_type": "markdown",
      "metadata": {
        "id": "xeDObOMz8apd"
      },
      "source": [
        "③ 기초통계량과 분포를 통해서 파악한 내용을 적어 봅시다.\n",
        "- 먼저 보이는 그대로 적어 보고\n",
        "- 그 안에 담긴 비즈니스 관점도 적어 봅시다."
      ]
    },
    {
      "cell_type": "code",
      "source": [
        "# 지역별 회사 광고 예산은 평균 6,635달러이고, 대부분이 5,000달러이지만, 최대 29,000달러인 경우도 있다.\n",
        "# 광고 예산이 높은 지역일수록, 수익을 높이기 위한 기대는 어렵다. 예산이 많을 수록, 다른 회사의 홍보가 많이 이루어졌고, 많은 사람들은 새로운 재품을 구매하기 보단, 홍보된 익숙한 제품을 사용하려 할 것이다.\n",
        "# 따라서 상대적으로 홍보 예산이 적은, 홍보가 적게 되었을 가능성이 높은 지역에 홍보하여 제품에 대한 사람들의 관심을 끄는것이 좋다."
      ],
      "metadata": {
        "id": "ORx3InGz8apd"
      },
      "execution_count": null,
      "outputs": []
    },
    {
      "cell_type": "markdown",
      "metadata": {
        "id": "twhQTBwF8apd"
      },
      "source": [
        "④ 추가 분석해 볼 만한 사항이 있으면 적어 봅시다.  \n",
        "(추가 분석을 하는게 아니라, 위 ③을 적으며 추가로 궁금한 항목을 적으세요.)"
      ]
    },
    {
      "cell_type": "code",
      "source": [
        "# 특히 앞서 말한 소득이 높은 지역일수록, 홍보 효과가 높을 것이다. 그들의 구매력을 바탕으로 카시트를 홍보하면 높은 수익률을 기대할 수 있을 것이다."
      ],
      "metadata": {
        "id": "JgO8w3lf8apd"
      },
      "execution_count": null,
      "outputs": []
    },
    {
      "cell_type": "markdown",
      "metadata": {
        "id": "Pf9iFSXpg8mZ"
      },
      "source": [
        "### **(5) Population**"
      ]
    },
    {
      "cell_type": "markdown",
      "metadata": {
        "id": "WoLGOam88cRx"
      },
      "source": [
        "① 변수의 비즈니스 의미"
      ]
    },
    {
      "cell_type": "code",
      "source": [
        "# 지역 인구수(단위 : 1000명) : 지역별로 사람들의 수를 나타낸 지표이다."
      ],
      "metadata": {
        "id": "l30b6D818cRx"
      },
      "execution_count": 20,
      "outputs": []
    },
    {
      "cell_type": "markdown",
      "metadata": {
        "id": "_d4wPnZA8cRx"
      },
      "source": [
        "② 기초통계량 및 분포확인"
      ]
    },
    {
      "cell_type": "code",
      "execution_count": 19,
      "metadata": {
        "id": "o6lGkFAO8cRx",
        "colab": {
          "base_uri": "https://localhost:8080/",
          "height": 335
        },
        "outputId": "6caaa5b2-e09d-4174-b2ea-dc14a9359868"
      },
      "outputs": [
        {
          "output_type": "execute_result",
          "data": {
            "text/plain": [
              "count    400.000000\n",
              "mean     264.840000\n",
              "std      147.376436\n",
              "min       10.000000\n",
              "25%      139.000000\n",
              "50%      272.000000\n",
              "75%      398.500000\n",
              "max      509.000000\n",
              "Name: Population, dtype: float64"
            ],
            "text/html": [
              "<div>\n",
              "<style scoped>\n",
              "    .dataframe tbody tr th:only-of-type {\n",
              "        vertical-align: middle;\n",
              "    }\n",
              "\n",
              "    .dataframe tbody tr th {\n",
              "        vertical-align: top;\n",
              "    }\n",
              "\n",
              "    .dataframe thead th {\n",
              "        text-align: right;\n",
              "    }\n",
              "</style>\n",
              "<table border=\"1\" class=\"dataframe\">\n",
              "  <thead>\n",
              "    <tr style=\"text-align: right;\">\n",
              "      <th></th>\n",
              "      <th>Population</th>\n",
              "    </tr>\n",
              "  </thead>\n",
              "  <tbody>\n",
              "    <tr>\n",
              "      <th>count</th>\n",
              "      <td>400.000000</td>\n",
              "    </tr>\n",
              "    <tr>\n",
              "      <th>mean</th>\n",
              "      <td>264.840000</td>\n",
              "    </tr>\n",
              "    <tr>\n",
              "      <th>std</th>\n",
              "      <td>147.376436</td>\n",
              "    </tr>\n",
              "    <tr>\n",
              "      <th>min</th>\n",
              "      <td>10.000000</td>\n",
              "    </tr>\n",
              "    <tr>\n",
              "      <th>25%</th>\n",
              "      <td>139.000000</td>\n",
              "    </tr>\n",
              "    <tr>\n",
              "      <th>50%</th>\n",
              "      <td>272.000000</td>\n",
              "    </tr>\n",
              "    <tr>\n",
              "      <th>75%</th>\n",
              "      <td>398.500000</td>\n",
              "    </tr>\n",
              "    <tr>\n",
              "      <th>max</th>\n",
              "      <td>509.000000</td>\n",
              "    </tr>\n",
              "  </tbody>\n",
              "</table>\n",
              "</div><br><label><b>dtype:</b> float64</label>"
            ]
          },
          "metadata": {},
          "execution_count": 19
        }
      ],
      "source": [
        "data['Population'].describe()"
      ]
    },
    {
      "cell_type": "markdown",
      "metadata": {
        "id": "R3Y3VQJE8cRx"
      },
      "source": [
        "③ 기초통계량과 분포를 통해서 파악한 내용을 적어 봅시다.\n",
        "- 먼저 보이는 그대로 적어 보고\n",
        "- 그 안에 담긴 비즈니스 관점도 적어 봅시다."
      ]
    },
    {
      "cell_type": "code",
      "source": [
        "# 지역별 사람들은 평균은 264,840명이지만, 대부분은 272,000명으로 몰려있다.\n",
        "# 카시트의 판매를 하기 위해선 사람들이 많은 지역을 선점하는 것이 중요하다. 사람들이 많은 지역일수록, 교통이 발달하고, 차량의 이용률도 높을 것이다.\n",
        "# 자연스럽게 카시트의 판매할 수 있는 경우도 많아지므로, 인구가 많은 지역을 우선적으로 판매한다."
      ],
      "metadata": {
        "id": "O3eesGE88cRx"
      },
      "execution_count": null,
      "outputs": []
    },
    {
      "cell_type": "markdown",
      "metadata": {
        "id": "QDfijxfn8cRx"
      },
      "source": [
        "④ 추가 분석해 볼 만한 사항이 있으면 적어 봅시다.  \n",
        "(추가 분석을 하는게 아니라, 위 ③을 적으며 추가로 궁금한 항목을 적으세요.)"
      ]
    },
    {
      "cell_type": "code",
      "source": [
        "# 특히 지역별 소득 수준과 연계하여, 인구가 많으며, 소득 수준이 높은 지역을 우선적으로 선점한다.\n",
        "# 인구가 많아도, 소득 수준이 낮다면, 사람들의 차량이용이 저조할 수 있고, 반대로 소득 수준이 높아도 인구가 적다면, 사람들에게 판매할 수 있는 카시트의 갯수가 한정적일 것이다."
      ],
      "metadata": {
        "id": "H1Bqlr768cRx"
      },
      "execution_count": null,
      "outputs": []
    },
    {
      "cell_type": "markdown",
      "metadata": {
        "id": "-MNN7Zplg8wC"
      },
      "source": [
        "### **(6) Price**"
      ]
    },
    {
      "cell_type": "markdown",
      "metadata": {
        "id": "WqP6Ewnc8dmW"
      },
      "source": [
        "① 변수의 비즈니스 의미"
      ]
    },
    {
      "cell_type": "code",
      "source": [
        "# 자사 지역별 판매가격 : 지역별 카시트의 판매가격에 대한 차이를 나타내준다."
      ],
      "metadata": {
        "id": "Iy5GrnAL8dmW"
      },
      "execution_count": 22,
      "outputs": []
    },
    {
      "cell_type": "markdown",
      "metadata": {
        "id": "Jptq9_3d8dmW"
      },
      "source": [
        "② 기초통계량 및 분포확인"
      ]
    },
    {
      "cell_type": "code",
      "execution_count": 21,
      "metadata": {
        "id": "DG7rvEHQ8dmW",
        "colab": {
          "base_uri": "https://localhost:8080/",
          "height": 335
        },
        "outputId": "027641f4-a1c0-4b0f-fefd-f288726c46d2"
      },
      "outputs": [
        {
          "output_type": "execute_result",
          "data": {
            "text/plain": [
              "count    400.000000\n",
              "mean     115.795000\n",
              "std       23.676664\n",
              "min       24.000000\n",
              "25%      100.000000\n",
              "50%      117.000000\n",
              "75%      131.000000\n",
              "max      191.000000\n",
              "Name: Price, dtype: float64"
            ],
            "text/html": [
              "<div>\n",
              "<style scoped>\n",
              "    .dataframe tbody tr th:only-of-type {\n",
              "        vertical-align: middle;\n",
              "    }\n",
              "\n",
              "    .dataframe tbody tr th {\n",
              "        vertical-align: top;\n",
              "    }\n",
              "\n",
              "    .dataframe thead th {\n",
              "        text-align: right;\n",
              "    }\n",
              "</style>\n",
              "<table border=\"1\" class=\"dataframe\">\n",
              "  <thead>\n",
              "    <tr style=\"text-align: right;\">\n",
              "      <th></th>\n",
              "      <th>Price</th>\n",
              "    </tr>\n",
              "  </thead>\n",
              "  <tbody>\n",
              "    <tr>\n",
              "      <th>count</th>\n",
              "      <td>400.000000</td>\n",
              "    </tr>\n",
              "    <tr>\n",
              "      <th>mean</th>\n",
              "      <td>115.795000</td>\n",
              "    </tr>\n",
              "    <tr>\n",
              "      <th>std</th>\n",
              "      <td>23.676664</td>\n",
              "    </tr>\n",
              "    <tr>\n",
              "      <th>min</th>\n",
              "      <td>24.000000</td>\n",
              "    </tr>\n",
              "    <tr>\n",
              "      <th>25%</th>\n",
              "      <td>100.000000</td>\n",
              "    </tr>\n",
              "    <tr>\n",
              "      <th>50%</th>\n",
              "      <td>117.000000</td>\n",
              "    </tr>\n",
              "    <tr>\n",
              "      <th>75%</th>\n",
              "      <td>131.000000</td>\n",
              "    </tr>\n",
              "    <tr>\n",
              "      <th>max</th>\n",
              "      <td>191.000000</td>\n",
              "    </tr>\n",
              "  </tbody>\n",
              "</table>\n",
              "</div><br><label><b>dtype:</b> float64</label>"
            ]
          },
          "metadata": {},
          "execution_count": 21
        }
      ],
      "source": [
        "data['Price'].describe()"
      ]
    },
    {
      "cell_type": "markdown",
      "metadata": {
        "id": "rcLkMsVb8dmW"
      },
      "source": [
        "③ 기초통계량과 분포를 통해서 파악한 내용을 적어 봅시다.\n",
        "- 먼저 보이는 그대로 적어 보고\n",
        "- 그 안에 담긴 비즈니스 관점도 적어 봅시다."
      ]
    },
    {
      "cell_type": "code",
      "source": [
        "# 지역별 카시트의 편차를 나타내주며, 평균적으로 115.78이지만, 최소 24 최대 191이다.\n",
        "# 카시트의 가격이 높은 지역일수록, 인건비가 높거나, 다른 경쟁회사와의 가격 경쟁에서 우위또는 경쟁이 심하지 않다는 뜻이다.\n",
        "# 반대로 가격이 낮은 지역일 경우 경쟁이 심한 경우일 수 있기에, 회사에서 손해를 보면서까지 가격 경쟁을 할 상황이 아니면 그 지역에 대한 판매 계획은 철수하는 편이 좋다."
      ],
      "metadata": {
        "id": "-LKdTI7L8dmX"
      },
      "execution_count": null,
      "outputs": []
    },
    {
      "cell_type": "markdown",
      "metadata": {
        "id": "jRY20wO28dmX"
      },
      "source": [
        "④ 추가 분석해 볼 만한 사항이 있으면 적어 봅시다.  \n",
        "(추가 분석을 하는게 아니라, 위 ③을 적으며 추가로 궁금한 항목을 적으세요.)"
      ]
    },
    {
      "cell_type": "code",
      "source": [
        "# 자사의 지역별 가격외에도, 그 지역에 대한 경쟁사의 가격과 비교하여, 가격을 높일지 낮출지를 결정해야한다.\n",
        "# 또한 자사의 가격이 낮은 지역에는 홍보 예산을 늘려, 사람들에게 자사의 제품에 대한 관심과 새로운 인식을 심어주어 제품에 대한 흥미를 이끌어야 한다."
      ],
      "metadata": {
        "id": "__5e4NjD8dmX"
      },
      "execution_count": null,
      "outputs": []
    },
    {
      "cell_type": "markdown",
      "metadata": {
        "id": "9sLeiF5Kg9EO"
      },
      "source": [
        "### **(7) Age**"
      ]
    },
    {
      "cell_type": "markdown",
      "metadata": {
        "id": "8-EDDNP-8fwe"
      },
      "source": [
        "① 변수의 비즈니스 의미"
      ]
    },
    {
      "cell_type": "code",
      "source": [
        "#\t지역 인구의 평균 연령 : 지역인구의 평균이 무슨 연령인지를 알려준다."
      ],
      "metadata": {
        "id": "ksM6NpOS8fwf",
        "colab": {
          "base_uri": "https://localhost:8080/",
          "height": 335
        },
        "outputId": "6ce9f262-ede0-4142-8c3b-a518a4654fa4"
      },
      "execution_count": 10,
      "outputs": [
        {
          "output_type": "execute_result",
          "data": {
            "text/plain": [
              "count    400.000000\n",
              "mean      53.322500\n",
              "std       16.200297\n",
              "min       25.000000\n",
              "25%       39.750000\n",
              "50%       54.500000\n",
              "75%       66.000000\n",
              "max       80.000000\n",
              "Name: Age, dtype: float64"
            ],
            "text/html": [
              "<div>\n",
              "<style scoped>\n",
              "    .dataframe tbody tr th:only-of-type {\n",
              "        vertical-align: middle;\n",
              "    }\n",
              "\n",
              "    .dataframe tbody tr th {\n",
              "        vertical-align: top;\n",
              "    }\n",
              "\n",
              "    .dataframe thead th {\n",
              "        text-align: right;\n",
              "    }\n",
              "</style>\n",
              "<table border=\"1\" class=\"dataframe\">\n",
              "  <thead>\n",
              "    <tr style=\"text-align: right;\">\n",
              "      <th></th>\n",
              "      <th>Age</th>\n",
              "    </tr>\n",
              "  </thead>\n",
              "  <tbody>\n",
              "    <tr>\n",
              "      <th>count</th>\n",
              "      <td>400.000000</td>\n",
              "    </tr>\n",
              "    <tr>\n",
              "      <th>mean</th>\n",
              "      <td>53.322500</td>\n",
              "    </tr>\n",
              "    <tr>\n",
              "      <th>std</th>\n",
              "      <td>16.200297</td>\n",
              "    </tr>\n",
              "    <tr>\n",
              "      <th>min</th>\n",
              "      <td>25.000000</td>\n",
              "    </tr>\n",
              "    <tr>\n",
              "      <th>25%</th>\n",
              "      <td>39.750000</td>\n",
              "    </tr>\n",
              "    <tr>\n",
              "      <th>50%</th>\n",
              "      <td>54.500000</td>\n",
              "    </tr>\n",
              "    <tr>\n",
              "      <th>75%</th>\n",
              "      <td>66.000000</td>\n",
              "    </tr>\n",
              "    <tr>\n",
              "      <th>max</th>\n",
              "      <td>80.000000</td>\n",
              "    </tr>\n",
              "  </tbody>\n",
              "</table>\n",
              "</div><br><label><b>dtype:</b> float64</label>"
            ]
          },
          "metadata": {},
          "execution_count": 10
        }
      ]
    },
    {
      "cell_type": "markdown",
      "metadata": {
        "id": "CNYxoG3A8fwf"
      },
      "source": [
        "② 기초통계량 및 분포확인"
      ]
    },
    {
      "cell_type": "code",
      "execution_count": 23,
      "metadata": {
        "id": "jxCXExuN8fwf",
        "colab": {
          "base_uri": "https://localhost:8080/",
          "height": 335
        },
        "outputId": "7c3c957e-fe95-4a93-b7f3-4861cd593feb"
      },
      "outputs": [
        {
          "output_type": "execute_result",
          "data": {
            "text/plain": [
              "count    400.000000\n",
              "mean      53.322500\n",
              "std       16.200297\n",
              "min       25.000000\n",
              "25%       39.750000\n",
              "50%       54.500000\n",
              "75%       66.000000\n",
              "max       80.000000\n",
              "Name: Age, dtype: float64"
            ],
            "text/html": [
              "<div>\n",
              "<style scoped>\n",
              "    .dataframe tbody tr th:only-of-type {\n",
              "        vertical-align: middle;\n",
              "    }\n",
              "\n",
              "    .dataframe tbody tr th {\n",
              "        vertical-align: top;\n",
              "    }\n",
              "\n",
              "    .dataframe thead th {\n",
              "        text-align: right;\n",
              "    }\n",
              "</style>\n",
              "<table border=\"1\" class=\"dataframe\">\n",
              "  <thead>\n",
              "    <tr style=\"text-align: right;\">\n",
              "      <th></th>\n",
              "      <th>Age</th>\n",
              "    </tr>\n",
              "  </thead>\n",
              "  <tbody>\n",
              "    <tr>\n",
              "      <th>count</th>\n",
              "      <td>400.000000</td>\n",
              "    </tr>\n",
              "    <tr>\n",
              "      <th>mean</th>\n",
              "      <td>53.322500</td>\n",
              "    </tr>\n",
              "    <tr>\n",
              "      <th>std</th>\n",
              "      <td>16.200297</td>\n",
              "    </tr>\n",
              "    <tr>\n",
              "      <th>min</th>\n",
              "      <td>25.000000</td>\n",
              "    </tr>\n",
              "    <tr>\n",
              "      <th>25%</th>\n",
              "      <td>39.750000</td>\n",
              "    </tr>\n",
              "    <tr>\n",
              "      <th>50%</th>\n",
              "      <td>54.500000</td>\n",
              "    </tr>\n",
              "    <tr>\n",
              "      <th>75%</th>\n",
              "      <td>66.000000</td>\n",
              "    </tr>\n",
              "    <tr>\n",
              "      <th>max</th>\n",
              "      <td>80.000000</td>\n",
              "    </tr>\n",
              "  </tbody>\n",
              "</table>\n",
              "</div><br><label><b>dtype:</b> float64</label>"
            ]
          },
          "metadata": {},
          "execution_count": 23
        }
      ],
      "source": [
        "data['Age'].describe()"
      ]
    },
    {
      "cell_type": "markdown",
      "metadata": {
        "id": "ENhBdcXr8fwf"
      },
      "source": [
        "③ 기초통계량과 분포를 통해서 파악한 내용을 적어 봅시다.\n",
        "- 먼저 보이는 그대로 적어 보고\n",
        "- 그 안에 담긴 비즈니스 관점도 적어 봅시다."
      ]
    },
    {
      "cell_type": "code",
      "source": [
        "# 지역의 평균 연령은 대략 54세이고 대부분이 55세이다. 카시트의 판매 대상에는 최소 25세부터 80세까지가 타켓이다.\n",
        "# 젊은 사람들에게 카시트 판매를 집중해야한다. 젊은 사람들일수록, 후에 새로운 차나, 카시트를 구매할 가능성이 높기 때문에 그들에게 좋은 인식을 심어 자사의 카시트를 재구매할 의향을 높인다.\n",
        "# 또한 젊은 사람들일 수록 SNS를 통해 홍보할 경우가 높다. 따라서 젊은 사람들을 경향하는 것이 홍보 예산도 줄이고, 추가적인 판매율을 높일 수 있다."
      ],
      "metadata": {
        "id": "tmR-hPSh8fwf"
      },
      "execution_count": null,
      "outputs": []
    },
    {
      "cell_type": "markdown",
      "metadata": {
        "id": "8kjygMjR8fwf"
      },
      "source": [
        "④ 추가 분석해 볼 만한 사항이 있으면 적어 봅시다.  \n",
        "(추가 분석을 하는게 아니라, 위 ③을 적으며 추가로 궁금한 항목을 적으세요.)"
      ]
    },
    {
      "cell_type": "code",
      "source": [
        "# 연령이 높은 사람들의 경우에 소득 수준이 어느정도 되는지 같이 고려한다. 그들의 경우 차량의 이용율과 카시트를 재구매할 경우가 젊은이 보단 낮겠지만,\n",
        "# 소득이 높은 경우 많은 카시트를 한 번에 구매할 가능성이 있다.(여러대의 차량을 동시에 보유한 사람들)"
      ],
      "metadata": {
        "id": "PDRkATLf8fwf"
      },
      "execution_count": null,
      "outputs": []
    }
  ],
  "metadata": {
    "colab": {
      "provenance": [],
      "toc_visible": true
    },
    "kernelspec": {
      "display_name": "Python 3 (ipykernel)",
      "language": "python",
      "name": "python3"
    },
    "language_info": {
      "codemirror_mode": {
        "name": "ipython",
        "version": 3
      },
      "file_extension": ".py",
      "mimetype": "text/x-python",
      "name": "python",
      "nbconvert_exporter": "python",
      "pygments_lexer": "ipython3",
      "version": "3.9.13"
    }
  },
  "nbformat": 4,
  "nbformat_minor": 0
}